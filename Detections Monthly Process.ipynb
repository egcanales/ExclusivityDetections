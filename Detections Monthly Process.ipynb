{
 "cells": [
  {
   "cell_type": "markdown",
   "metadata": {},
   "source": [
    "#### Define functions and set date"
   ]
  },
  {
   "cell_type": "code",
   "execution_count": 1,
   "metadata": {},
   "outputs": [],
   "source": [
    "import time\n",
    "import datetime\n",
    "import pandas as pd \n",
    "import pyodbc\n",
    "import sys\n",
    "import sqlalchemy\n",
    "import nbimporter\n",
    "import os\n",
    "pd.set_option('display.max_columns', 25)\n",
    "driver = 'ODBC Driver 17 for SQL Server'\n",
    "\n",
    "\n",
    "def execute_sql(sql):\n",
    "\n",
    "    cursor.execute(sql)\n",
    "    try:\n",
    "        column_list = [column[0] for column in cursor.description]\n",
    "        row_list = [row for row in cursor]\n",
    "        table = pd.DataFrame.from_records(row_list, columns=column_list)\n",
    "        print (\"Query executed.\")\n",
    "        return table\n",
    "    except:\n",
    "        print (\"Query executed.\")\n",
    "        return\n",
    "    \n",
    "def push_df_sql(server, db, table_name, dataframe,option='replace'):\n",
    "\n",
    "    \"\"\" Sends pandas dataframe to specified table in SQL Server\n",
    "        sqlalchemy required b/c pyodbc in execute_sql() does not support \"to sql\" cmds \"\"\"\n",
    "\n",
    "    # connect to SQL Server via sqlalchemy by specifying driver/server/database\n",
    "    conn_string = 'mssql+pyodbc://' + server + '/' + db + \\\n",
    "                    '?trusted_connection=yes&driver=' + driver\n",
    "\n",
    "    # initialize engine to establish connection to server\n",
    "    engine = sqlalchemy.create_engine(conn_string, isolation_level='READ_UNCOMMITTED')\n",
    "    connection = engine.connect()\n",
    "\n",
    "    print('Pushing df into {}.dbo.{}'.format(db, table_name))\n",
    "\n",
    "    # push pandas df to table in sql server\n",
    "    dataframe.to_sql(table_name, con=engine, if_exists=option, \n",
    "        index=False, schema=schema, chunksize=10)\n",
    "\n",
    "    # close connection\n",
    "    connection.close()\n",
    "\n",
    "    print('--------------------')\n",
    "    print('Pushed successfully')\n",
    "    print('\\n')\n",
    "    \n",
    "def push_junk(server,df,table_name,option='replace'):\n",
    "    database = 'csn_junk' ####Enter database here\n",
    "    \n",
    "    print('Connecting to '+server+'...')\n",
    "    print('---------------------')\n",
    "    con_string = 'mssql+pyodbc://{0}/{1}?trusted_connection=yes&driver=ODBC+Driver+13+for+SQL+Server&MultiSubnetFailover=yes'.format(server,database)     \n",
    "    engine = sqlalchemy.create_engine(con_string, echo=False,isolation_level='READ_UNCOMMITTED')\n",
    "    con = engine.connect()\n",
    "    \n",
    "    print('Pushing junk table '+table_name+'...')\n",
    "    print('---------------------')\n",
    "    df.to_sql(name=table_name, con=engine, schema = 'dbo', if_exists=option,index=False)\n",
    "    \n",
    "    print('Table pushed!')\n",
    "    con.close()\n",
    "    engine.dispose()\n",
    "\n",
    "def connect_db(server,db):\n",
    "    import sqlalchemy\n",
    "    print('Connecting to '+server+'...')\n",
    "    conn = pyodbc.connect(\"DRIVER={\" + driver + \"};SERVER=\" + server + \"; DATABASE=\" + db + \"; Trusted_Connection=yes;MultiSubnetFailover=Yes\",autocommit=True)\n",
    "    cursor = conn.cursor()\n",
    "    print ('Connected to '+server+'...')\n",
    "    return conn,cursor\n",
    "\n",
    "# Read SQL scripts in WPP folder\n",
    "def read_sql(query_name):\n",
    "    with open('G:\\\\Shared drives\\\\Competitive Intelligence\\\\8. Exclusivity\\\\3. Ongoing Projects\\\\WPP Products\\\\SQL\\\\Detections report queries\\\\{}'.format(query_name)) as query_file:\n",
    "        return query_file.read()\n",
    "    \n",
    "import datetime\n",
    "d = datetime.date.today()\n",
    "day = d.strftime(\"%d\")\n",
    "month = d.strftime(\"%m\")\n",
    "year = d.strftime(\"%y\")"
   ]
  },
  {
   "cell_type": "markdown",
   "metadata": {},
   "source": [
    "#### Verifying month & year for tables and files"
   ]
  },
  {
   "cell_type": "code",
   "execution_count": 2,
   "metadata": {},
   "outputs": [
    {
     "name": "stdout",
     "output_type": "stream",
     "text": [
      "Current month set to:  01\n",
      "01\n"
     ]
    }
   ],
   "source": [
    "print(\"Current month set to: \",month)\n",
    "a =  input('''Verify the month of the report by entering the number\\n\n",
    "NOTE: All existing reports/tables with same month + year will be overwritten\\n''')\n",
    "print(a)\n",
    "if len(a) == 1:\n",
    "    a = '0' + a\n",
    "if a != month:\n",
    "    month = a"
   ]
  },
  {
   "cell_type": "code",
   "execution_count": 3,
   "metadata": {},
   "outputs": [
    {
     "name": "stdout",
     "output_type": "stream",
     "text": [
      "Current year set to:  20\n",
      "20\n"
     ]
    }
   ],
   "source": [
    "print(\"Current year set to: \",year)\n",
    "a =  input('''Verify the year of the report by entering the number in YY format\\n\n",
    "NOTE: All existing reports/tables with same month + year will be overwritten\\n''')\n",
    "print(a)\n",
    "if len(a) == 1:\n",
    "    a = '0' + a\n",
    "if len(a) == 4:\n",
    "    a = a[2:]\n",
    "if a != year:\n",
    "    year = a"
   ]
  },
  {
   "cell_type": "markdown",
   "metadata": {},
   "source": [
    "#### Ensure the names of the tables are correct"
   ]
  },
  {
   "cell_type": "code",
   "execution_count": 4,
   "metadata": {},
   "outputs": [
    {
     "name": "stdout",
     "output_type": "stream",
     "text": [
      "Current month set to:  01\n",
      "Current year set to:  20\n",
      "ED table name: ED_sample_0120\n",
      "All exclusive products table name: all_exclusive_products_0120\n",
      "Violations and Detections log table name: exclusive_detection_log_0120\n"
     ]
    }
   ],
   "source": [
    "print(\"Current month set to: \",month)\n",
    "print(\"Current year set to: \",year)\n",
    "#Define tables for reports\n",
    "ed_table_name = 'ED_sample_{0}{1}'.format(month,year)\n",
    "all_exclusive_name = 'all_exclusive_products_{0}{1}'.format(month,year)\n",
    "exclusive_detections_name = 'exclusive_detection_log_{0}{1}'.format(month,year)\n",
    "print(\"ED table name:\",ed_table_name)\n",
    "print(\"All exclusive products table name:\",all_exclusive_name)\n",
    "print(\"Violations and Detections log table name:\",exclusive_detections_name)"
   ]
  },
  {
   "cell_type": "markdown",
   "metadata": {},
   "source": [
    "### Sample step"
   ]
  },
  {
   "cell_type": "markdown",
   "metadata": {},
   "source": [
    "#### Pull all active agreements from EB database"
   ]
  },
  {
   "cell_type": "code",
   "execution_count": 9,
   "metadata": {},
   "outputs": [
    {
     "name": "stdout",
     "output_type": "stream",
     "text": [
      "Connecting to SQLMERCHANDISING...\n",
      "Connected to SQLMERCHANDISING...\n",
      "Query executed.\n"
     ]
    },
    {
     "data": {
      "text/html": [
       "<div>\n",
       "<style scoped>\n",
       "    .dataframe tbody tr th:only-of-type {\n",
       "        vertical-align: middle;\n",
       "    }\n",
       "\n",
       "    .dataframe tbody tr th {\n",
       "        vertical-align: top;\n",
       "    }\n",
       "\n",
       "    .dataframe thead th {\n",
       "        text-align: right;\n",
       "    }\n",
       "</style>\n",
       "<table border=\"1\" class=\"dataframe\">\n",
       "  <thead>\n",
       "    <tr style=\"text-align: right;\">\n",
       "      <th></th>\n",
       "      <th>PrSKU</th>\n",
       "      <th>SupplierPartID</th>\n",
       "      <th>SupplierID</th>\n",
       "      <th>SupplierPartNumber</th>\n",
       "      <th>OptionCombinationID</th>\n",
       "      <th>ManufacturerPartID</th>\n",
       "      <th>SoID</th>\n",
       "      <th>ExclusivityEndDate</th>\n",
       "      <th>SupplierExclusivityPartType</th>\n",
       "      <th>AgreementType</th>\n",
       "    </tr>\n",
       "    <tr>\n",
       "      <th>AgreementType</th>\n",
       "      <th></th>\n",
       "      <th></th>\n",
       "      <th></th>\n",
       "      <th></th>\n",
       "      <th></th>\n",
       "      <th></th>\n",
       "      <th></th>\n",
       "      <th></th>\n",
       "      <th></th>\n",
       "      <th></th>\n",
       "    </tr>\n",
       "  </thead>\n",
       "  <tbody>\n",
       "    <tr>\n",
       "      <th>FlagshipBrands</th>\n",
       "      <td>8236</td>\n",
       "      <td>33832</td>\n",
       "      <td>510</td>\n",
       "      <td>33736</td>\n",
       "      <td>33748</td>\n",
       "      <td>33732</td>\n",
       "      <td>1</td>\n",
       "      <td>240</td>\n",
       "      <td>5</td>\n",
       "      <td>1</td>\n",
       "    </tr>\n",
       "    <tr>\n",
       "      <th>LifestyleBrands</th>\n",
       "      <td>163</td>\n",
       "      <td>388</td>\n",
       "      <td>25</td>\n",
       "      <td>388</td>\n",
       "      <td>389</td>\n",
       "      <td>388</td>\n",
       "      <td>4</td>\n",
       "      <td>1</td>\n",
       "      <td>1</td>\n",
       "      <td>1</td>\n",
       "    </tr>\n",
       "    <tr>\n",
       "      <th>WPP</th>\n",
       "      <td>131413</td>\n",
       "      <td>379836</td>\n",
       "      <td>518</td>\n",
       "      <td>378704</td>\n",
       "      <td>379556</td>\n",
       "      <td>379089</td>\n",
       "      <td>1</td>\n",
       "      <td>408</td>\n",
       "      <td>3</td>\n",
       "      <td>1</td>\n",
       "    </tr>\n",
       "  </tbody>\n",
       "</table>\n",
       "</div>"
      ],
      "text/plain": [
       "                  PrSKU  SupplierPartID  SupplierID  SupplierPartNumber  \\\n",
       "AgreementType                                                             \n",
       "FlagshipBrands     8236           33832         510               33736   \n",
       "LifestyleBrands     163             388          25                 388   \n",
       "WPP              131413          379836         518              378704   \n",
       "\n",
       "                 OptionCombinationID  ManufacturerPartID  SoID  \\\n",
       "AgreementType                                                    \n",
       "FlagshipBrands                 33748               33732     1   \n",
       "LifestyleBrands                  389                 388     4   \n",
       "WPP                           379556              379089     1   \n",
       "\n",
       "                 ExclusivityEndDate  SupplierExclusivityPartType  \\\n",
       "AgreementType                                                      \n",
       "FlagshipBrands                  240                            5   \n",
       "LifestyleBrands                   1                            1   \n",
       "WPP                             408                            3   \n",
       "\n",
       "                 AgreementType  \n",
       "AgreementType                   \n",
       "FlagshipBrands               1  \n",
       "LifestyleBrands              1  \n",
       "WPP                          1  "
      ]
     },
     "execution_count": 9,
     "metadata": {},
     "output_type": "execute_result"
    }
   ],
   "source": [
    "#Get all EBs with active exclusivity into Dataframe\n",
    "conn,cursor = connect_db('SQLMERCHANDISING','csn_product')\n",
    "query1 = read_sql('Exclusivity Detections sampling - part 1.sql')\n",
    "all_exclusive_products_df = execute_sql(query1)\n",
    "conn.close()\n",
    "#Gut check of all exclusive products' distribution\n",
    "all_exclusive_products_df.groupby('AgreementType').nunique()"
   ]
  },
  {
   "cell_type": "code",
   "execution_count": 11,
   "metadata": {},
   "outputs": [
    {
     "name": "stdout",
     "output_type": "stream",
     "text": [
      "Connecting to SQLMERCHANDISING...\n",
      "---------------------\n",
      "Pushing junk table all_exclusive_products_0120...\n",
      "---------------------\n",
      "Table pushed!\n"
     ]
    }
   ],
   "source": [
    "#Move Dataframe to new SQLMERCHANDISING junk table\n",
    "push_junk('SQLMERCHANDISING',all_exclusive_products_df,all_exclusive_name)"
   ]
  },
  {
   "cell_type": "markdown",
   "metadata": {},
   "source": [
    "#### Pull all Flagship Brands and Lifestyle Brands PartNumbers"
   ]
  },
  {
   "cell_type": "code",
   "execution_count": 12,
   "metadata": {},
   "outputs": [
    {
     "name": "stdout",
     "output_type": "stream",
     "text": [
      "Connecting to SQLMERCHANDISING...\n",
      "Connected to SQLMERCHANDISING...\n"
     ]
    }
   ],
   "source": [
    "#Connect to SQLMERCHANDISING\n",
    "conn,cursor = connect_db('SQLMERCHANDISING','csn_junk')"
   ]
  },
  {
   "cell_type": "code",
   "execution_count": 14,
   "metadata": {},
   "outputs": [
    {
     "name": "stdout",
     "output_type": "stream",
     "text": [
      "Query executed.\n"
     ]
    },
    {
     "data": {
      "text/html": [
       "<div>\n",
       "<style scoped>\n",
       "    .dataframe tbody tr th:only-of-type {\n",
       "        vertical-align: middle;\n",
       "    }\n",
       "\n",
       "    .dataframe tbody tr th {\n",
       "        vertical-align: top;\n",
       "    }\n",
       "\n",
       "    .dataframe thead th {\n",
       "        text-align: right;\n",
       "    }\n",
       "</style>\n",
       "<table border=\"1\" class=\"dataframe\">\n",
       "  <thead>\n",
       "    <tr style=\"text-align: right;\">\n",
       "      <th></th>\n",
       "      <th>PrSKU</th>\n",
       "      <th>SupplierPartID</th>\n",
       "      <th>SupplierID</th>\n",
       "      <th>SupplierPartNumber</th>\n",
       "      <th>ManufacturerPartID</th>\n",
       "      <th>OptionCombinationID</th>\n",
       "      <th>SoID</th>\n",
       "      <th>ExclusivityEndDate</th>\n",
       "      <th>SupplierExclusivityPartType</th>\n",
       "      <th>AgreementType</th>\n",
       "      <th>MatchSearch</th>\n",
       "    </tr>\n",
       "    <tr>\n",
       "      <th>AgreementType</th>\n",
       "      <th></th>\n",
       "      <th></th>\n",
       "      <th></th>\n",
       "      <th></th>\n",
       "      <th></th>\n",
       "      <th></th>\n",
       "      <th></th>\n",
       "      <th></th>\n",
       "      <th></th>\n",
       "      <th></th>\n",
       "      <th></th>\n",
       "    </tr>\n",
       "  </thead>\n",
       "  <tbody>\n",
       "    <tr>\n",
       "      <th>FlagshipBrands</th>\n",
       "      <td>8236</td>\n",
       "      <td>33832</td>\n",
       "      <td>510</td>\n",
       "      <td>33736</td>\n",
       "      <td>33732</td>\n",
       "      <td>33748</td>\n",
       "      <td>1</td>\n",
       "      <td>240</td>\n",
       "      <td>5</td>\n",
       "      <td>1</td>\n",
       "      <td>1</td>\n",
       "    </tr>\n",
       "    <tr>\n",
       "      <th>LifestyleBrands</th>\n",
       "      <td>163</td>\n",
       "      <td>388</td>\n",
       "      <td>25</td>\n",
       "      <td>388</td>\n",
       "      <td>388</td>\n",
       "      <td>389</td>\n",
       "      <td>4</td>\n",
       "      <td>1</td>\n",
       "      <td>1</td>\n",
       "      <td>1</td>\n",
       "      <td>1</td>\n",
       "    </tr>\n",
       "  </tbody>\n",
       "</table>\n",
       "</div>"
      ],
      "text/plain": [
       "                 PrSKU  SupplierPartID  SupplierID  SupplierPartNumber  \\\n",
       "AgreementType                                                            \n",
       "FlagshipBrands    8236           33832         510               33736   \n",
       "LifestyleBrands    163             388          25                 388   \n",
       "\n",
       "                 ManufacturerPartID  OptionCombinationID  SoID  \\\n",
       "AgreementType                                                    \n",
       "FlagshipBrands                33732                33748     1   \n",
       "LifestyleBrands                 388                  389     4   \n",
       "\n",
       "                 ExclusivityEndDate  SupplierExclusivityPartType  \\\n",
       "AgreementType                                                      \n",
       "FlagshipBrands                  240                            5   \n",
       "LifestyleBrands                   1                            1   \n",
       "\n",
       "                 AgreementType  MatchSearch  \n",
       "AgreementType                                \n",
       "FlagshipBrands               1            1  \n",
       "LifestyleBrands              1            1  "
      ]
     },
     "execution_count": 14,
     "metadata": {},
     "output_type": "execute_result"
    }
   ],
   "source": [
    "#SQLMERCHANDISING - get flagship brands and lifestyle brands into junk table\n",
    "query2 = read_sql('Exclusivity Detections sampling - part 2 (FSB).sql').replace('mm',month).replace('yy',year) \n",
    "ed_sample_fsb = execute_sql(query2)\n",
    "conn.close()\n",
    "#Gut check of Flagship Brands sample distribution\n",
    "ed_sample_fsb.groupby('AgreementType').nunique()"
   ]
  },
  {
   "cell_type": "code",
   "execution_count": 15,
   "metadata": {},
   "outputs": [
    {
     "name": "stdout",
     "output_type": "stream",
     "text": [
      "Connecting to SQLMERCHANDISING...\n",
      "---------------------\n",
      "Pushing junk table ED_sample_0120...\n",
      "---------------------\n",
      "Table pushed!\n"
     ]
    }
   ],
   "source": [
    "#make the junk table\n",
    "push_junk('SQLMERCHANDISING',ed_sample_fsb,ed_table_name)"
   ]
  },
  {
   "cell_type": "markdown",
   "metadata": {},
   "source": [
    "#### Pull sample of WPP PartNumbers"
   ]
  },
  {
   "cell_type": "code",
   "execution_count": 16,
   "metadata": {},
   "outputs": [
    {
     "name": "stdout",
     "output_type": "stream",
     "text": [
      "Connecting to SQLMERCHANDISING...\n",
      "Connected to SQLMERCHANDISING...\n"
     ]
    }
   ],
   "source": [
    "#Connect to SQLMERCHANDISING\n",
    "conn,cursor = connect_db('SQLMERCHANDISING','csn_junk')"
   ]
  },
  {
   "cell_type": "code",
   "execution_count": 18,
   "metadata": {},
   "outputs": [
    {
     "name": "stdout",
     "output_type": "stream",
     "text": [
      "Query executed.\n"
     ]
    },
    {
     "data": {
      "text/html": [
       "<div>\n",
       "<style scoped>\n",
       "    .dataframe tbody tr th:only-of-type {\n",
       "        vertical-align: middle;\n",
       "    }\n",
       "\n",
       "    .dataframe tbody tr th {\n",
       "        vertical-align: top;\n",
       "    }\n",
       "\n",
       "    .dataframe thead th {\n",
       "        text-align: right;\n",
       "    }\n",
       "</style>\n",
       "<table border=\"1\" class=\"dataframe\">\n",
       "  <thead>\n",
       "    <tr style=\"text-align: right;\">\n",
       "      <th></th>\n",
       "      <th>PrSKU</th>\n",
       "      <th>SupplierPartID</th>\n",
       "      <th>SupplierID</th>\n",
       "      <th>SupplierPartNumber</th>\n",
       "      <th>OptionCombinationID</th>\n",
       "      <th>SoID</th>\n",
       "      <th>ManufacturerPartID</th>\n",
       "      <th>ExclusivityEndDate</th>\n",
       "      <th>SupplierExclusivityPartType</th>\n",
       "      <th>AgreementType</th>\n",
       "      <th>MatchSearch</th>\n",
       "    </tr>\n",
       "    <tr>\n",
       "      <th>AgreementType</th>\n",
       "      <th></th>\n",
       "      <th></th>\n",
       "      <th></th>\n",
       "      <th></th>\n",
       "      <th></th>\n",
       "      <th></th>\n",
       "      <th></th>\n",
       "      <th></th>\n",
       "      <th></th>\n",
       "      <th></th>\n",
       "      <th></th>\n",
       "    </tr>\n",
       "  </thead>\n",
       "  <tbody>\n",
       "    <tr>\n",
       "      <th>WPP</th>\n",
       "      <td>31517</td>\n",
       "      <td>61149</td>\n",
       "      <td>429</td>\n",
       "      <td>60913</td>\n",
       "      <td>61111</td>\n",
       "      <td>1</td>\n",
       "      <td>60994</td>\n",
       "      <td>391</td>\n",
       "      <td>1</td>\n",
       "      <td>1</td>\n",
       "      <td>1</td>\n",
       "    </tr>\n",
       "  </tbody>\n",
       "</table>\n",
       "</div>"
      ],
      "text/plain": [
       "               PrSKU  SupplierPartID  SupplierID  SupplierPartNumber  \\\n",
       "AgreementType                                                          \n",
       "WPP            31517           61149         429               60913   \n",
       "\n",
       "               OptionCombinationID  SoID  ManufacturerPartID  \\\n",
       "AgreementType                                                  \n",
       "WPP                          61111     1               60994   \n",
       "\n",
       "               ExclusivityEndDate  SupplierExclusivityPartType  AgreementType  \\\n",
       "AgreementType                                                                   \n",
       "WPP                           391                            1              1   \n",
       "\n",
       "               MatchSearch  \n",
       "AgreementType               \n",
       "WPP                      1  "
      ]
     },
     "execution_count": 18,
     "metadata": {},
     "output_type": "execute_result"
    }
   ],
   "source": [
    "#WPPs\n",
    "query4 = read_sql('Exclusivity Detections sampling - part 3 (WPP).sql').replace('mm',month).replace('yy',year) #SQLMERCHANDISING - get all WPP products\n",
    "#insert into the junk table\n",
    "ed_sample_wpp = execute_sql(query4)\n",
    "#Get gut check of WPP products in sample\n",
    "ed_sample_wpp.groupby('AgreementType').nunique()"
   ]
  },
  {
   "cell_type": "code",
   "execution_count": 19,
   "metadata": {},
   "outputs": [
    {
     "name": "stdout",
     "output_type": "stream",
     "text": [
      "Connecting to SQLMERCHANDISING...\n",
      "---------------------\n",
      "Pushing junk table ED_sample_0120...\n",
      "---------------------\n",
      "Table pushed!\n"
     ]
    }
   ],
   "source": [
    "#Insert WPPs into sample\n",
    "push_junk('SQLMERCHANDISING',ed_sample_wpp,ed_table_name,option='append')"
   ]
  },
  {
   "cell_type": "markdown",
   "metadata": {},
   "source": [
    "#### Check all products in sample"
   ]
  },
  {
   "cell_type": "code",
   "execution_count": 20,
   "metadata": {},
   "outputs": [
    {
     "name": "stdout",
     "output_type": "stream",
     "text": [
      "Connecting to SQLMERCHANDISING...\n",
      "Connected to SQLMERCHANDISING...\n",
      "Query executed.\n"
     ]
    },
    {
     "data": {
      "text/html": [
       "<div>\n",
       "<style scoped>\n",
       "    .dataframe tbody tr th:only-of-type {\n",
       "        vertical-align: middle;\n",
       "    }\n",
       "\n",
       "    .dataframe tbody tr th {\n",
       "        vertical-align: top;\n",
       "    }\n",
       "\n",
       "    .dataframe thead th {\n",
       "        text-align: right;\n",
       "    }\n",
       "</style>\n",
       "<table border=\"1\" class=\"dataframe\">\n",
       "  <thead>\n",
       "    <tr style=\"text-align: right;\">\n",
       "      <th></th>\n",
       "      <th>PrSKU</th>\n",
       "      <th>SupplierPartID</th>\n",
       "      <th>SupplierID</th>\n",
       "      <th>SupplierPartNumber</th>\n",
       "      <th>ManufacturerPartID</th>\n",
       "      <th>OptionCombinationID</th>\n",
       "      <th>SoID</th>\n",
       "      <th>ExclusivityEndDate</th>\n",
       "      <th>SupplierExclusivityPartType</th>\n",
       "      <th>AgreementType</th>\n",
       "      <th>MatchSearch</th>\n",
       "    </tr>\n",
       "    <tr>\n",
       "      <th>AgreementType</th>\n",
       "      <th></th>\n",
       "      <th></th>\n",
       "      <th></th>\n",
       "      <th></th>\n",
       "      <th></th>\n",
       "      <th></th>\n",
       "      <th></th>\n",
       "      <th></th>\n",
       "      <th></th>\n",
       "      <th></th>\n",
       "      <th></th>\n",
       "    </tr>\n",
       "  </thead>\n",
       "  <tbody>\n",
       "    <tr>\n",
       "      <th>FlagshipBrands</th>\n",
       "      <td>8236</td>\n",
       "      <td>33832</td>\n",
       "      <td>510</td>\n",
       "      <td>33736</td>\n",
       "      <td>33732</td>\n",
       "      <td>33748</td>\n",
       "      <td>1</td>\n",
       "      <td>240</td>\n",
       "      <td>5</td>\n",
       "      <td>1</td>\n",
       "      <td>1</td>\n",
       "    </tr>\n",
       "    <tr>\n",
       "      <th>LifestyleBrands</th>\n",
       "      <td>163</td>\n",
       "      <td>388</td>\n",
       "      <td>25</td>\n",
       "      <td>388</td>\n",
       "      <td>388</td>\n",
       "      <td>389</td>\n",
       "      <td>4</td>\n",
       "      <td>1</td>\n",
       "      <td>1</td>\n",
       "      <td>1</td>\n",
       "      <td>1</td>\n",
       "    </tr>\n",
       "    <tr>\n",
       "      <th>WPP</th>\n",
       "      <td>31517</td>\n",
       "      <td>61149</td>\n",
       "      <td>429</td>\n",
       "      <td>60913</td>\n",
       "      <td>60994</td>\n",
       "      <td>61111</td>\n",
       "      <td>1</td>\n",
       "      <td>391</td>\n",
       "      <td>1</td>\n",
       "      <td>1</td>\n",
       "      <td>1</td>\n",
       "    </tr>\n",
       "  </tbody>\n",
       "</table>\n",
       "</div>"
      ],
      "text/plain": [
       "                 PrSKU  SupplierPartID  SupplierID  SupplierPartNumber  \\\n",
       "AgreementType                                                            \n",
       "FlagshipBrands    8236           33832         510               33736   \n",
       "LifestyleBrands    163             388          25                 388   \n",
       "WPP              31517           61149         429               60913   \n",
       "\n",
       "                 ManufacturerPartID  OptionCombinationID  SoID  \\\n",
       "AgreementType                                                    \n",
       "FlagshipBrands                33732                33748     1   \n",
       "LifestyleBrands                 388                  389     4   \n",
       "WPP                           60994                61111     1   \n",
       "\n",
       "                 ExclusivityEndDate  SupplierExclusivityPartType  \\\n",
       "AgreementType                                                      \n",
       "FlagshipBrands                  240                            5   \n",
       "LifestyleBrands                   1                            1   \n",
       "WPP                             391                            1   \n",
       "\n",
       "                 AgreementType  MatchSearch  \n",
       "AgreementType                                \n",
       "FlagshipBrands               1            1  \n",
       "LifestyleBrands              1            1  \n",
       "WPP                          1            1  "
      ]
     },
     "execution_count": 20,
     "metadata": {},
     "output_type": "execute_result"
    }
   ],
   "source": [
    "conn,cursor = connect_db('SQLMERCHANDISING','csn_junk')\n",
    "query_ED = 'select * from csn_junk..{0}'.format(ed_table_name)\n",
    "table_ED = execute_sql(query_ED)\n",
    "conn.close()\n",
    "#Get gut check of all products in sample\n",
    "table_ED.groupby('AgreementType').nunique()"
   ]
  },
  {
   "cell_type": "code",
   "execution_count": 21,
   "metadata": {},
   "outputs": [
    {
     "name": "stdout",
     "output_type": "stream",
     "text": [
      "Connecting to SQLMERCHANDISING...\n",
      "Connected to SQLMERCHANDISING...\n",
      "Query executed.\n"
     ]
    },
    {
     "data": {
      "text/html": [
       "<div>\n",
       "<style scoped>\n",
       "    .dataframe tbody tr th:only-of-type {\n",
       "        vertical-align: middle;\n",
       "    }\n",
       "\n",
       "    .dataframe tbody tr th {\n",
       "        vertical-align: top;\n",
       "    }\n",
       "\n",
       "    .dataframe thead th {\n",
       "        text-align: right;\n",
       "    }\n",
       "</style>\n",
       "<table border=\"1\" class=\"dataframe\">\n",
       "  <thead>\n",
       "    <tr style=\"text-align: right;\">\n",
       "      <th></th>\n",
       "      <th>PrSKU</th>\n",
       "      <th>SupplierPartID</th>\n",
       "      <th>SupplierID</th>\n",
       "      <th>SupplierPartNumber</th>\n",
       "      <th>OptionCombinationID</th>\n",
       "      <th>ManufacturerPartID</th>\n",
       "      <th>SoID</th>\n",
       "      <th>ExclusivityEndDate</th>\n",
       "      <th>SupplierExclusivityPartType</th>\n",
       "      <th>AgreementType</th>\n",
       "    </tr>\n",
       "    <tr>\n",
       "      <th>AgreementType</th>\n",
       "      <th></th>\n",
       "      <th></th>\n",
       "      <th></th>\n",
       "      <th></th>\n",
       "      <th></th>\n",
       "      <th></th>\n",
       "      <th></th>\n",
       "      <th></th>\n",
       "      <th></th>\n",
       "      <th></th>\n",
       "    </tr>\n",
       "  </thead>\n",
       "  <tbody>\n",
       "    <tr>\n",
       "      <th>FlagshipBrands</th>\n",
       "      <td>8236</td>\n",
       "      <td>33832</td>\n",
       "      <td>510</td>\n",
       "      <td>33736</td>\n",
       "      <td>33748</td>\n",
       "      <td>33732</td>\n",
       "      <td>1</td>\n",
       "      <td>240</td>\n",
       "      <td>5</td>\n",
       "      <td>1</td>\n",
       "    </tr>\n",
       "    <tr>\n",
       "      <th>LifestyleBrands</th>\n",
       "      <td>163</td>\n",
       "      <td>388</td>\n",
       "      <td>25</td>\n",
       "      <td>388</td>\n",
       "      <td>389</td>\n",
       "      <td>388</td>\n",
       "      <td>4</td>\n",
       "      <td>1</td>\n",
       "      <td>1</td>\n",
       "      <td>1</td>\n",
       "    </tr>\n",
       "    <tr>\n",
       "      <th>WPP</th>\n",
       "      <td>131413</td>\n",
       "      <td>379836</td>\n",
       "      <td>518</td>\n",
       "      <td>378704</td>\n",
       "      <td>379556</td>\n",
       "      <td>379089</td>\n",
       "      <td>1</td>\n",
       "      <td>408</td>\n",
       "      <td>3</td>\n",
       "      <td>1</td>\n",
       "    </tr>\n",
       "  </tbody>\n",
       "</table>\n",
       "</div>"
      ],
      "text/plain": [
       "                  PrSKU  SupplierPartID  SupplierID  SupplierPartNumber  \\\n",
       "AgreementType                                                             \n",
       "FlagshipBrands     8236           33832         510               33736   \n",
       "LifestyleBrands     163             388          25                 388   \n",
       "WPP              131413          379836         518              378704   \n",
       "\n",
       "                 OptionCombinationID  ManufacturerPartID  SoID  \\\n",
       "AgreementType                                                    \n",
       "FlagshipBrands                 33748               33732     1   \n",
       "LifestyleBrands                  389                 388     4   \n",
       "WPP                           379556              379089     1   \n",
       "\n",
       "                 ExclusivityEndDate  SupplierExclusivityPartType  \\\n",
       "AgreementType                                                      \n",
       "FlagshipBrands                  240                            5   \n",
       "LifestyleBrands                   1                            1   \n",
       "WPP                             408                            3   \n",
       "\n",
       "                 AgreementType  \n",
       "AgreementType                   \n",
       "FlagshipBrands               1  \n",
       "LifestyleBrands              1  \n",
       "WPP                          1  "
      ]
     },
     "execution_count": 21,
     "metadata": {},
     "output_type": "execute_result"
    }
   ],
   "source": [
    "conn,cursor = connect_db('SQLMERCHANDISING','csn_junk')\n",
    "query_ALL = 'select * from csn_junk..{0}'.format(all_exclusive_name)\n",
    "table_ALL = execute_sql(query_ALL)\n",
    "conn.close()\n",
    "table_ALL.groupby('AgreementType').nunique()"
   ]
  },
  {
   "cell_type": "code",
   "execution_count": 22,
   "metadata": {},
   "outputs": [
    {
     "name": "stdout",
     "output_type": "stream",
     "text": [
      "Connecting to SQLCOMPINTELRO...\n",
      "---------------------\n",
      "Pushing junk table ED_sample_0120...\n",
      "---------------------\n",
      "Table pushed!\n"
     ]
    }
   ],
   "source": [
    "#Push table to SQLCOMPINTELRO\n",
    "push_junk('SQLCOMPINTELRO',table_ED,ed_table_name)"
   ]
  },
  {
   "cell_type": "markdown",
   "metadata": {},
   "source": [
    "#### Backup junk tables in csv files"
   ]
  },
  {
   "cell_type": "code",
   "execution_count": 18,
   "metadata": {},
   "outputs": [
    {
     "name": "stdout",
     "output_type": "stream",
     "text": [
      "Does a backup ED sample table already exist for this month?\n"
     ]
    },
    {
     "data": {
      "text/plain": [
       "True"
      ]
     },
     "execution_count": 18,
     "metadata": {},
     "output_type": "execute_result"
    }
   ],
   "source": [
    "print(\"Does a backup ED sample table already exist for this month?\")\n",
    "os.path.exists(\"G:\\\\Shared drives\\\\Competitive Intelligence\\\\8. Exclusivity\\\\3. Ongoing Projects\\\\WPP Products\\\\ED sample backup\\\\{0} backup.csv\".format(ed_table_name))"
   ]
  },
  {
   "cell_type": "code",
   "execution_count": 19,
   "metadata": {},
   "outputs": [
    {
     "name": "stdout",
     "output_type": "stream",
     "text": [
      "Does a backup table of all exclusive products already exist for this month?\n"
     ]
    },
    {
     "data": {
      "text/plain": [
       "True"
      ]
     },
     "execution_count": 19,
     "metadata": {},
     "output_type": "execute_result"
    }
   ],
   "source": [
    "print(\"Does a backup table of all exclusive products already exist for this month?\")\n",
    "os.path.exists(\"G:\\\\Shared drives\\\\Competitive Intelligence\\\\8. Exclusivity\\\\3. Ongoing Projects\\\\WPP Products\\\\ED sample backup\\\\{0} backup.csv\".format(all_exclusive_name))"
   ]
  },
  {
   "cell_type": "code",
   "execution_count": 20,
   "metadata": {},
   "outputs": [],
   "source": [
    "#Write backup table\n",
    "table_ED.to_csv(\"G:\\\\Shared drives\\\\Competitive Intelligence\\\\8. Exclusivity\\\\3. Ongoing Projects\\\\WPP Products\\\\ED sample backup\\\\{0} backup.csv\".format(ed_table_name),index=False)\n",
    "table_ALL.to_csv(\"G:\\\\Shared drives\\\\Competitive Intelligence\\\\8. Exclusivity\\\\3. Ongoing Projects\\\\WPP Products\\\\ED sample backup\\\\{0} backup.csv\".format(all_exclusive_name),index=False)"
   ]
  },
  {
   "cell_type": "code",
   "execution_count": null,
   "metadata": {},
   "outputs": [],
   "source": [
    "#Read backup table\n",
    "table_ED = pd.read_csv(\"G:\\\\Shared drives\\\\Competitive Intelligence\\\\8. Exclusivity\\\\3. Ongoing Projects\\\\WPP Products\\\\ED sample backup\\\\{0} backup.csv\".format(ed_table_name))"
   ]
  },
  {
   "cell_type": "markdown",
   "metadata": {},
   "source": [
    "#### Check how many SupplierPartIDs have detections vs not"
   ]
  },
  {
   "cell_type": "code",
   "execution_count": 5,
   "metadata": {},
   "outputs": [
    {
     "name": "stdout",
     "output_type": "stream",
     "text": [
      "Connecting to SQLCOMPINTELRO...\n",
      "Connected to SQLCOMPINTELRO...\n"
     ]
    }
   ],
   "source": [
    "conn,cursor = connect_db('SQLCOMPINTELRO','csn_junk')"
   ]
  },
  {
   "cell_type": "code",
   "execution_count": 29,
   "metadata": {},
   "outputs": [
    {
     "name": "stdout",
     "output_type": "stream",
     "text": [
      "Query executed.\n"
     ]
    },
    {
     "data": {
      "text/html": [
       "<div>\n",
       "<style scoped>\n",
       "    .dataframe tbody tr th:only-of-type {\n",
       "        vertical-align: middle;\n",
       "    }\n",
       "\n",
       "    .dataframe tbody tr th {\n",
       "        vertical-align: top;\n",
       "    }\n",
       "\n",
       "    .dataframe thead th {\n",
       "        text-align: right;\n",
       "    }\n",
       "</style>\n",
       "<table border=\"1\" class=\"dataframe\">\n",
       "  <thead>\n",
       "    <tr style=\"text-align: right;\">\n",
       "      <th></th>\n",
       "      <th>SupplierPartID</th>\n",
       "      <th>DetectionStatus</th>\n",
       "    </tr>\n",
       "    <tr>\n",
       "      <th>DetectionStatus</th>\n",
       "      <th></th>\n",
       "      <th></th>\n",
       "    </tr>\n",
       "  </thead>\n",
       "  <tbody>\n",
       "    <tr>\n",
       "      <th>Detected</th>\n",
       "      <td>46555</td>\n",
       "      <td>1</td>\n",
       "    </tr>\n",
       "    <tr>\n",
       "      <th>Undetected</th>\n",
       "      <td>42284</td>\n",
       "      <td>1</td>\n",
       "    </tr>\n",
       "  </tbody>\n",
       "</table>\n",
       "</div>"
      ],
      "text/plain": [
       "                 SupplierPartID  DetectionStatus\n",
       "DetectionStatus                                 \n",
       "Detected                  46555                1\n",
       "Undetected                42284                1"
      ]
     },
     "execution_count": 29,
     "metadata": {},
     "output_type": "execute_result"
    }
   ],
   "source": [
    "#How many of the PartNumbers have matches pre Matching step?\n",
    "query_matches1 = '''\n",
    "with cte1 as (select matWayID,matCppID \n",
    "                 from csn_comppricing..tblMatches a (nolock)\n",
    "                 join csn_comppricing..tblCmpCompetitorProducts b (nolock) on matCppID = CppID AND CppCompetitorId = 115\n",
    "                 where matApproved = 1),\n",
    "        detected as (select distinct b.wajWayID as WayID, a.SupplierPartID,a.PrSKU, a.ExclusivityEndDate,\n",
    "                     1 as MatchSearch,\n",
    "                     case\n",
    "                         when e.matWayID is null then 'Undetected'\n",
    "                         when e.matWayID is not null then 'Detected'\n",
    "                     end as DetectionStatus \n",
    "                     from csn_junk.dbo.{0} a --Changes every month\n",
    "                     join csn_comppricing..tblWayfairProducts_jjIDs b (nolock) on a.JjID = b.wajJJID\n",
    "                     join csn_pricing..tblActiveWayID c (nolock) on b.wajWayID = c.wayID and country = 1\n",
    "                     left join cte1 e (nolock) on b.wajWayID = e.matWayID)\n",
    "\n",
    "\n",
    "SELECT distinct a.SupplierPartID,DetectionStatus FROM csn_junk.dbo.{0} a\n",
    "JOIN detected b ON a.SupplierPartID = b.SupplierPartID'''.format(ed_table_name)\n",
    "matched_parts = execute_sql(query_matches1)\n",
    "conn.close()\n",
    "matched_parts.groupby('DetectionStatus').nunique()"
   ]
  },
  {
   "cell_type": "code",
   "execution_count": 9,
   "metadata": {},
   "outputs": [
    {
     "name": "stdout",
     "output_type": "stream",
     "text": [
      "Query executed.\n"
     ]
    },
    {
     "data": {
      "text/html": [
       "<div>\n",
       "<style scoped>\n",
       "    .dataframe tbody tr th:only-of-type {\n",
       "        vertical-align: middle;\n",
       "    }\n",
       "\n",
       "    .dataframe tbody tr th {\n",
       "        vertical-align: top;\n",
       "    }\n",
       "\n",
       "    .dataframe thead th {\n",
       "        text-align: right;\n",
       "    }\n",
       "</style>\n",
       "<table border=\"1\" class=\"dataframe\">\n",
       "  <thead>\n",
       "    <tr style=\"text-align: right;\">\n",
       "      <th></th>\n",
       "      <th>SupplierPartID</th>\n",
       "      <th>DetectionStatus</th>\n",
       "    </tr>\n",
       "    <tr>\n",
       "      <th>DetectionStatus</th>\n",
       "      <th></th>\n",
       "      <th></th>\n",
       "    </tr>\n",
       "  </thead>\n",
       "  <tbody>\n",
       "    <tr>\n",
       "      <th>Detected</th>\n",
       "      <td>51377</td>\n",
       "      <td>1</td>\n",
       "    </tr>\n",
       "    <tr>\n",
       "      <th>Undetected</th>\n",
       "      <td>43898</td>\n",
       "      <td>1</td>\n",
       "    </tr>\n",
       "  </tbody>\n",
       "</table>\n",
       "</div>"
      ],
      "text/plain": [
       "                 SupplierPartID  DetectionStatus\n",
       "DetectionStatus                                 \n",
       "Detected                  51377                1\n",
       "Undetected                43898                1"
      ]
     },
     "execution_count": 9,
     "metadata": {},
     "output_type": "execute_result"
    }
   ],
   "source": [
    "#How many of the PartNumbers have matches post Matching step?\n",
    "query_matches1 = '''\n",
    "with cte1 as (select matManufacturerPartID as ManufacturerPartID,matCppID \n",
    "                 from csn_comppricing..tblMatches a (nolock)\n",
    "                 join csn_comppricing..tblCmpCompetitorProducts b (nolock) on matCppID = CppID AND CppCompetitorId = 115\n",
    "                 where matApproved = 1\n",
    "                 and matClgID = 1),\n",
    "        detected as (select distinct a.ManufacturerPartID, a.SupplierPartID,a.PrSKU, a.ExclusivityEndDate,\n",
    "                     1 as MatchSearch,\n",
    "                     case\n",
    "                         when b.ManufacturerPartID is null then 'Undetected'\n",
    "                         when b.ManufacturerPartID is not null then 'Detected'\n",
    "                     end as DetectionStatus \n",
    "                     from csn_junk.dbo.{0} a --Changes every month\n",
    "                     left join cte1 b (nolock) on a.ManufacturerPartID = b.ManufacturerPartID)\n",
    "\n",
    "\n",
    "SELECT distinct a.SupplierPartID,DetectionStatus FROM csn_junk.dbo.{0} a\n",
    "JOIN detected b ON a.SupplierPartID = b.SupplierPartID'''.format(ed_table_name)\n",
    "matched_parts = execute_sql(query_matches1)\n",
    "conn.close()\n",
    "matched_parts.groupby('DetectionStatus').nunique()"
   ]
  },
  {
   "cell_type": "markdown",
   "metadata": {},
   "source": [
    "#### Log all detections for the month"
   ]
  },
  {
   "cell_type": "code",
   "execution_count": 10,
   "metadata": {},
   "outputs": [
    {
     "name": "stdout",
     "output_type": "stream",
     "text": [
      "Connecting to SQLCOMPINTELRO...\n",
      "Connected to SQLCOMPINTELRO...\n"
     ]
    }
   ],
   "source": [
    "#Connect to SQLCOMPINTELRO\n",
    "conn, cursor = connect_db('SQLCOMPINTELRO','csn_junk')"
   ]
  },
  {
   "cell_type": "code",
   "execution_count": 11,
   "metadata": {},
   "outputs": [
    {
     "name": "stdout",
     "output_type": "stream",
     "text": [
      "Query executed.\n"
     ]
    }
   ],
   "source": [
    "#Compile all detections in ED sample\n",
    "query9 = read_sql('Get exclusivity detections.sql').replace('mm',month).replace('yy',year)\n",
    "detection_log = execute_sql(query9)\n",
    "conn.close()"
   ]
  },
  {
   "cell_type": "code",
   "execution_count": 12,
   "metadata": {},
   "outputs": [
    {
     "name": "stdout",
     "output_type": "stream",
     "text": [
      "Does a backup table of all detections already exist for this month?\n"
     ]
    },
    {
     "data": {
      "text/plain": [
       "False"
      ]
     },
     "execution_count": 12,
     "metadata": {},
     "output_type": "execute_result"
    }
   ],
   "source": [
    "print(\"Does a backup table of all detections already exist for this month?\")\n",
    "os.path.exists(\"G:\\\\Shared drives\\\\Competitive Intelligence\\\\8. Exclusivity\\\\3. Ongoing Projects\\\\WPP Products\\\\ED sample backup\\\\{0} backup.csv\".format(exclusive_detections_name))"
   ]
  },
  {
   "cell_type": "code",
   "execution_count": 13,
   "metadata": {},
   "outputs": [],
   "source": [
    "#Write backup table\n",
    "detection_log.to_csv(\"G:\\\\Shared drives\\\\Competitive Intelligence\\\\8. Exclusivity\\\\3. Ongoing Projects\\\\WPP Products\\\\ED sample backup\\\\{0} backup.csv\".format(exclusive_detections_name),index=False)"
   ]
  },
  {
   "cell_type": "code",
   "execution_count": 16,
   "metadata": {},
   "outputs": [
    {
     "data": {
      "text/html": [
       "<div>\n",
       "<style scoped>\n",
       "    .dataframe tbody tr th:only-of-type {\n",
       "        vertical-align: middle;\n",
       "    }\n",
       "\n",
       "    .dataframe tbody tr th {\n",
       "        vertical-align: top;\n",
       "    }\n",
       "\n",
       "    .dataframe thead th {\n",
       "        text-align: right;\n",
       "    }\n",
       "</style>\n",
       "<table border=\"1\" class=\"dataframe\">\n",
       "  <thead>\n",
       "    <tr style=\"text-align: right;\">\n",
       "      <th></th>\n",
       "      <th>PrSKU</th>\n",
       "      <th>SupplierPartID</th>\n",
       "      <th>SupplierID</th>\n",
       "      <th>SupplierPartNumber</th>\n",
       "      <th>ManufacturerPartID</th>\n",
       "      <th>OptionCombinationID</th>\n",
       "      <th>SoID</th>\n",
       "      <th>ExclusivityEndDate</th>\n",
       "      <th>SupplierExclusivityPartType</th>\n",
       "      <th>AgreementType</th>\n",
       "      <th>MatchSearch</th>\n",
       "      <th>WayID</th>\n",
       "      <th>DetectionDate</th>\n",
       "      <th>CrawledOn</th>\n",
       "      <th>AmazonURL</th>\n",
       "      <th>SoldByAmazon</th>\n",
       "      <th>CppManufacturer</th>\n",
       "    </tr>\n",
       "    <tr>\n",
       "      <th>SoldByAmazon</th>\n",
       "      <th></th>\n",
       "      <th></th>\n",
       "      <th></th>\n",
       "      <th></th>\n",
       "      <th></th>\n",
       "      <th></th>\n",
       "      <th></th>\n",
       "      <th></th>\n",
       "      <th></th>\n",
       "      <th></th>\n",
       "      <th></th>\n",
       "      <th></th>\n",
       "      <th></th>\n",
       "      <th></th>\n",
       "      <th></th>\n",
       "      <th></th>\n",
       "      <th></th>\n",
       "    </tr>\n",
       "  </thead>\n",
       "  <tbody>\n",
       "    <tr>\n",
       "      <th>0</th>\n",
       "      <td>14716</td>\n",
       "      <td>26249</td>\n",
       "      <td>527</td>\n",
       "      <td>26173</td>\n",
       "      <td>26184</td>\n",
       "      <td>26229</td>\n",
       "      <td>4</td>\n",
       "      <td>331</td>\n",
       "      <td>5</td>\n",
       "      <td>3</td>\n",
       "      <td>1</td>\n",
       "      <td>28507</td>\n",
       "      <td>1169</td>\n",
       "      <td>15</td>\n",
       "      <td>27531</td>\n",
       "      <td>1</td>\n",
       "      <td>1310</td>\n",
       "    </tr>\n",
       "    <tr>\n",
       "      <th>1</th>\n",
       "      <td>7536</td>\n",
       "      <td>18272</td>\n",
       "      <td>355</td>\n",
       "      <td>18220</td>\n",
       "      <td>18222</td>\n",
       "      <td>18310</td>\n",
       "      <td>5</td>\n",
       "      <td>304</td>\n",
       "      <td>5</td>\n",
       "      <td>3</td>\n",
       "      <td>1</td>\n",
       "      <td>21295</td>\n",
       "      <td>950</td>\n",
       "      <td>16</td>\n",
       "      <td>18334</td>\n",
       "      <td>1</td>\n",
       "      <td>567</td>\n",
       "    </tr>\n",
       "  </tbody>\n",
       "</table>\n",
       "</div>"
      ],
      "text/plain": [
       "              PrSKU  SupplierPartID  SupplierID  SupplierPartNumber  \\\n",
       "SoldByAmazon                                                          \n",
       "0             14716           26249         527               26173   \n",
       "1              7536           18272         355               18220   \n",
       "\n",
       "              ManufacturerPartID  OptionCombinationID  SoID  \\\n",
       "SoldByAmazon                                                  \n",
       "0                          26184                26229     4   \n",
       "1                          18222                18310     5   \n",
       "\n",
       "              ExclusivityEndDate  SupplierExclusivityPartType  AgreementType  \\\n",
       "SoldByAmazon                                                                   \n",
       "0                            331                            5              3   \n",
       "1                            304                            5              3   \n",
       "\n",
       "              MatchSearch  WayID  DetectionDate  CrawledOn  AmazonURL  \\\n",
       "SoldByAmazon                                                            \n",
       "0                       1  28507           1169         15      27531   \n",
       "1                       1  21295            950         16      18334   \n",
       "\n",
       "              SoldByAmazon  CppManufacturer  \n",
       "SoldByAmazon                                 \n",
       "0                        1             1310  \n",
       "1                        1              567  "
      ]
     },
     "execution_count": 16,
     "metadata": {},
     "output_type": "execute_result"
    }
   ],
   "source": [
    "detection_log.groupby('SoldByAmazon').nunique()"
   ]
  },
  {
   "cell_type": "code",
   "execution_count": 17,
   "metadata": {},
   "outputs": [
    {
     "name": "stdout",
     "output_type": "stream",
     "text": [
      "Connecting to SQLMERCHANDISING...\n",
      "---------------------\n",
      "Pushing junk table exclusive_detection_log_0120...\n",
      "---------------------\n",
      "Table pushed!\n"
     ]
    }
   ],
   "source": [
    "#Push detection log into junk table in SQLMERCHANDISING\n",
    "push_junk('SQLMERCHANDISING', detection_log, exclusive_detections_name)"
   ]
  },
  {
   "cell_type": "code",
   "execution_count": 18,
   "metadata": {},
   "outputs": [
    {
     "name": "stdout",
     "output_type": "stream",
     "text": [
      "Connecting to SQLCOMPINTELRO...\n",
      "---------------------\n",
      "Pushing junk table exclusive_detection_log_0120...\n",
      "---------------------\n",
      "Table pushed!\n"
     ]
    }
   ],
   "source": [
    "#Push detection log into junk table in SQLCOMPINTELRO\n",
    "push_junk('SQLCOMPINTELRO', detection_log, exclusive_detections_name)"
   ]
  },
  {
   "cell_type": "code",
   "execution_count": 20,
   "metadata": {},
   "outputs": [
    {
     "name": "stdout",
     "output_type": "stream",
     "text": [
      "Connecting to SQLMERCHANDISING...\n",
      "Connected to SQLMERCHANDISING...\n"
     ]
    }
   ],
   "source": [
    "#Connect to SQLMERCHANDISING\n",
    "conn, cursor = connect_db('SQLMERCHANDISING','csn_junk')"
   ]
  },
  {
   "cell_type": "markdown",
   "metadata": {},
   "source": [
    "### Run all reports"
   ]
  },
  {
   "cell_type": "markdown",
   "metadata": {},
   "source": [
    "#### ED stats"
   ]
  },
  {
   "cell_type": "code",
   "execution_count": 21,
   "metadata": {},
   "outputs": [
    {
     "name": "stdout",
     "output_type": "stream",
     "text": [
      "Query executed.\n"
     ]
    }
   ],
   "source": [
    "query_ED_stats = read_sql('ED stats v2.sql').replace('mm',month).replace('yy',year)\n",
    "ED_stats = execute_sql(query_ED_stats)"
   ]
  },
  {
   "cell_type": "markdown",
   "metadata": {},
   "source": [
    "#### SRM report"
   ]
  },
  {
   "cell_type": "code",
   "execution_count": 22,
   "metadata": {},
   "outputs": [
    {
     "name": "stdout",
     "output_type": "stream",
     "text": [
      "Query executed.\n"
     ]
    }
   ],
   "source": [
    "query_SRM_report = read_sql('SRM report v2.sql').replace('mm',month).replace('yy',year)\n",
    "SRM_report = execute_sql(query_SRM_report)"
   ]
  },
  {
   "cell_type": "code",
   "execution_count": 23,
   "metadata": {},
   "outputs": [
    {
     "name": "stdout",
     "output_type": "stream",
     "text": [
      "Does a SRM report already exist for this month?\n"
     ]
    },
    {
     "data": {
      "text/plain": [
       "False"
      ]
     },
     "execution_count": 23,
     "metadata": {},
     "output_type": "execute_result"
    }
   ],
   "source": [
    "print(\"Does a SRM report already exist for this month?\")\n",
    "os.path.exists(\"G:\\\\Shared drives\\\\Competitive Intelligence\\\\8. Exclusivity\\\\3. Ongoing Projects\\\\WPP Products\\\\Reporting\\\\{0}-{1} Report\\\\SRM Report {0}-{1}.xlsx\".format(month,year))"
   ]
  },
  {
   "cell_type": "code",
   "execution_count": 25,
   "metadata": {},
   "outputs": [],
   "source": [
    "SRM_report.to_excel(\"G:\\\\Shared drives\\\\Competitive Intelligence\\\\8. Exclusivity\\\\3. Ongoing Projects\\\\WPP Products\\\\Reporting\\\\{0}-{1} Report\\\\SRM Report {0}-{1}.xlsx\".format(month,year),index=False)"
   ]
  },
  {
   "cell_type": "markdown",
   "metadata": {},
   "source": [
    "#### Flagship Brands report"
   ]
  },
  {
   "cell_type": "code",
   "execution_count": 27,
   "metadata": {},
   "outputs": [
    {
     "name": "stdout",
     "output_type": "stream",
     "text": [
      "Query executed.\n"
     ]
    }
   ],
   "source": [
    "query_FB_report = read_sql('Flagship Brands report v2.sql').replace('mm',month).replace('yy',year)\n",
    "FB_report = execute_sql(query_FB_report)"
   ]
  },
  {
   "cell_type": "markdown",
   "metadata": {},
   "source": [
    "#### Marketing Category Breakdown"
   ]
  },
  {
   "cell_type": "code",
   "execution_count": 28,
   "metadata": {},
   "outputs": [
    {
     "name": "stdout",
     "output_type": "stream",
     "text": [
      "Query executed.\n"
     ]
    }
   ],
   "source": [
    "query_MC_report = read_sql('Marketing Categories report v2.sql').replace('mm',month).replace('yy',year)\n",
    "MC_report = execute_sql(query_MC_report)"
   ]
  },
  {
   "cell_type": "code",
   "execution_count": 31,
   "metadata": {},
   "outputs": [
    {
     "name": "stdout",
     "output_type": "stream",
     "text": [
      "Query executed.\n"
     ]
    }
   ],
   "source": [
    "query_avg_report = read_sql('Average GRS report v2.sql').replace('mm',month).replace('yy',year)\n",
    "avg_report = execute_sql(query_avg_report)\n",
    "conn.close()"
   ]
  },
  {
   "cell_type": "markdown",
   "metadata": {},
   "source": [
    "#### Write reports to a file"
   ]
  },
  {
   "cell_type": "code",
   "execution_count": 32,
   "metadata": {},
   "outputs": [
    {
     "name": "stdout",
     "output_type": "stream",
     "text": [
      "Does a report already exist for this month?\n"
     ]
    },
    {
     "data": {
      "text/plain": [
       "False"
      ]
     },
     "execution_count": 32,
     "metadata": {},
     "output_type": "execute_result"
    }
   ],
   "source": [
    "print(\"Does a report already exist for this month?\")\n",
    "os.path.exists(\"G:\\\\Shared drives\\\\Competitive Intelligence\\\\8. Exclusivity\\\\3. Ongoing Projects\\\\WPP Products\\\\Reporting\\\\{0}-{1} Report\\\\Exclusivity Detections Report {0}-{1}.xlsx\".format(month,year))"
   ]
  },
  {
   "cell_type": "code",
   "execution_count": 33,
   "metadata": {
    "scrolled": false
   },
   "outputs": [],
   "source": [
    "import os\n",
    "os.chdir(\"G:\\\\Shared drives\\\\Competitive Intelligence\\\\8. Exclusivity\\\\3. Ongoing Projects\\\\WPP Products\\\\Reporting\\\\{0}-{1} Report\".format(month,year))\n",
    "with pd.ExcelWriter(\"Exclusivity Detections Report {0}-{1}.xlsx\".format(month,year)) as writer:\n",
    "    ED_stats.to_excel(writer, sheet_name='Overall',index=False)\n",
    "    SRM_report.to_excel(writer, sheet_name='List of Violations',index=False)\n",
    "    FB_report.to_excel(writer,sheet_name='Flagship Brands',index=False)\n",
    "    MC_report.to_excel(writer,sheet_name='Marketing Categories',index=False)\n",
    "    avg_report.to_excel(writer,sheet_name='Average GRS',index=False)"
   ]
  },
  {
   "cell_type": "code",
   "execution_count": null,
   "metadata": {},
   "outputs": [],
   "source": []
  }
 ],
 "metadata": {
  "kernelspec": {
   "display_name": "Python 3",
   "language": "python",
   "name": "python3"
  },
  "language_info": {
   "codemirror_mode": {
    "name": "ipython",
    "version": 3
   },
   "file_extension": ".py",
   "mimetype": "text/x-python",
   "name": "python",
   "nbconvert_exporter": "python",
   "pygments_lexer": "ipython3",
   "version": "3.6.5"
  }
 },
 "nbformat": 4,
 "nbformat_minor": 2
}
