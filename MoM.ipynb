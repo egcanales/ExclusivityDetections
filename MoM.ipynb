{
 "cells": [
  {
   "cell_type": "code",
   "execution_count": 11,
   "metadata": {},
   "outputs": [],
   "source": [
    "import pandas as pd\n",
    "import os"
   ]
  },
  {
   "cell_type": "code",
   "execution_count": 12,
   "metadata": {},
   "outputs": [],
   "source": [
    "#MONTHS\n",
    "month1 = input(\"Enter month #1 to compare (in mm-yyyy format): \")\n",
    "month2 = input(\"Enter month #2 to compare (in mm-yyyy format): \")\n",
    "month1x = month1[:4]\n",
    "month2x = month2[:4]"
   ]
  },
  {
   "cell_type": "code",
   "execution_count": 31,
   "metadata": {},
   "outputs": [],
   "source": [
    "#REPORTS\n",
    "reports = ['Overall','Flagship Brands','Marketing Categories','Average GRS']"
   ]
  },
  {
   "cell_type": "code",
   "execution_count": 32,
   "metadata": {},
   "outputs": [],
   "source": [
    "os.chdir(\"G:\\\\Shared drives\\\\Competitive Intelligence\\\\8. Exclusivity\\\\3. Ongoing Projects\\\\WPP Products\\\\Reporting\")\n",
    "last_month = \"{0} Report\\\\Exclusivity Detections Report {0}.xlsx\".format(month1x)\n",
    "this_month = \"{0} Report\\\\Exclusivity Detections Report {0}.xlsx\".format(month2x)"
   ]
  },
  {
   "cell_type": "code",
   "execution_count": 36,
   "metadata": {},
   "outputs": [],
   "source": [
    "d={}\n",
    "for i in reports:\n",
    "    a = pd.read_excel(last_month,sheet_name=i)\n",
    "    b = pd.read_excel(this_month,sheet_name=i)\n",
    "    b.columns = [col for col in a]\n",
    "    a['Month'] = month1\n",
    "    b['Month'] = month2\n",
    "    frames = [a,b]\n",
    "    d[\"{0}\".format(i)]=pd.concat(frames,sort=True)"
   ]
  },
  {
   "cell_type": "code",
   "execution_count": 38,
   "metadata": {},
   "outputs": [],
   "source": [
    "with pd.ExcelWriter(\"{0} and {1} Exclusivity Detections Report.xlsx\".format(month1,month2)) as writer:\n",
    "    for report in d:\n",
    "        d[report].to_excel(writer,sheet_name=report,index=False)"
   ]
  }
 ],
 "metadata": {
  "kernelspec": {
   "display_name": "Python 3",
   "language": "python",
   "name": "python3"
  },
  "language_info": {
   "codemirror_mode": {
    "name": "ipython",
    "version": 3
   },
   "file_extension": ".py",
   "mimetype": "text/x-python",
   "name": "python",
   "nbconvert_exporter": "python",
   "pygments_lexer": "ipython3",
   "version": "3.6.5"
  }
 },
 "nbformat": 4,
 "nbformat_minor": 2
}
